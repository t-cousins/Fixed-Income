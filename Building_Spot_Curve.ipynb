{
 "cells": [
  {
   "cell_type": "markdown",
   "metadata": {},
   "source": [
    "# Building a US Treasury Spot Yield Curve"
   ]
  },
  {
   "cell_type": "markdown",
   "metadata": {},
   "source": [
    "The Treasury spot yield curve is the risk-free dollar spot/zero interest rate as a function of maturity. It is the interest rate that one could achieve on an investment that begins today and is locked in until maturity, paying zero coupons inbetween. For some maturities these can be observed directly in the market as zero-coupon bonds (T-bills are quoted out to 1 year). For longer maturities coupon-paying Notes and Bonds must be used to compute the implied zero rate.\n",
    "\n",
    "All of the data used has been collected from the Wall Street Journal [[1](https://www.wsj.com/market-data/bonds/treasuries)] and reflect the closing prices on **Friday 5th July 2019**."
   ]
  },
  {
   "cell_type": "code",
   "execution_count": 1,
   "metadata": {
    "collapsed": true
   },
   "outputs": [],
   "source": [
    "import pandas as pd\n",
    "import numpy as np\n",
    "import scipy.optimize as optimize\n",
    "from scipy import interpolate\n",
    "import matplotlib.pyplot as plt\n",
    "\n",
    "today = np.datetime64('2019-07-05')"
   ]
  },
  {
   "cell_type": "code",
   "execution_count": 2,
   "metadata": {
    "collapsed": false
   },
   "outputs": [
    {
     "data": {
      "text/html": [
       "<div>\n",
       "<table border=\"1\" class=\"dataframe\">\n",
       "  <thead>\n",
       "    <tr style=\"text-align: right;\">\n",
       "      <th></th>\n",
       "      <th>BID</th>\n",
       "      <th>ASKED</th>\n",
       "      <th>CHG</th>\n",
       "      <th>ASKED YIELD</th>\n",
       "    </tr>\n",
       "    <tr>\n",
       "      <th>MATURITY</th>\n",
       "      <th></th>\n",
       "      <th></th>\n",
       "      <th></th>\n",
       "      <th></th>\n",
       "    </tr>\n",
       "  </thead>\n",
       "  <tbody>\n",
       "    <tr>\n",
       "      <th>2019-07-09</th>\n",
       "      <td>2.173</td>\n",
       "      <td>2.163</td>\n",
       "      <td>-0.035</td>\n",
       "      <td>2.1990</td>\n",
       "    </tr>\n",
       "    <tr>\n",
       "      <th>2019-07-11</th>\n",
       "      <td>2.178</td>\n",
       "      <td>2.168</td>\n",
       "      <td>-0.012</td>\n",
       "      <td>2.1980</td>\n",
       "    </tr>\n",
       "    <tr>\n",
       "      <th>2019-07-16</th>\n",
       "      <td>2.215</td>\n",
       "      <td>2.205</td>\n",
       "      <td>-0.005</td>\n",
       "      <td>2.2430</td>\n",
       "    </tr>\n",
       "    <tr>\n",
       "      <th>2019-07-18</th>\n",
       "      <td>2.210</td>\n",
       "      <td>2.200</td>\n",
       "      <td>0.02</td>\n",
       "      <td>2.2320</td>\n",
       "    </tr>\n",
       "    <tr>\n",
       "      <th>2019-07-23</th>\n",
       "      <td>2.205</td>\n",
       "      <td>2.195</td>\n",
       "      <td>-0.012</td>\n",
       "      <td>2.2336</td>\n",
       "    </tr>\n",
       "  </tbody>\n",
       "</table>\n",
       "</div>"
      ],
      "text/plain": [
       "              BID  ASKED     CHG  ASKED YIELD\n",
       "MATURITY                                     \n",
       "2019-07-09  2.173  2.163  -0.035       2.1990\n",
       "2019-07-11  2.178  2.168  -0.012       2.1980\n",
       "2019-07-16  2.215  2.205  -0.005       2.2430\n",
       "2019-07-18  2.210  2.200    0.02       2.2320\n",
       "2019-07-23  2.205  2.195  -0.012       2.2336"
      ]
     },
     "execution_count": 2,
     "metadata": {},
     "output_type": "execute_result"
    }
   ],
   "source": [
    "billsPath = \"Bills_07-05-19.csv\"\n",
    "notesBondsPath = \"Notes_Bonds_07-05-19.csv\"\n",
    "\n",
    "billData = pd.read_csv(billsPath, index_col = 'MATURITY', parse_dates = True)\n",
    "bondData = pd.read_csv(notesBondsPath, index_col = 'MATURITY', parse_dates = True)\n",
    "\n",
    "billData.head()"
   ]
  },
  {
   "cell_type": "code",
   "execution_count": 3,
   "metadata": {
    "collapsed": false
   },
   "outputs": [
    {
     "data": {
      "text/html": [
       "<div>\n",
       "<table border=\"1\" class=\"dataframe\">\n",
       "  <thead>\n",
       "    <tr style=\"text-align: right;\">\n",
       "      <th></th>\n",
       "      <th>COUPON</th>\n",
       "      <th>BID</th>\n",
       "      <th>ASKED</th>\n",
       "      <th>CHG</th>\n",
       "      <th>ASKED YIELD</th>\n",
       "    </tr>\n",
       "    <tr>\n",
       "      <th>MATURITY</th>\n",
       "      <th></th>\n",
       "      <th></th>\n",
       "      <th></th>\n",
       "      <th></th>\n",
       "      <th></th>\n",
       "    </tr>\n",
       "  </thead>\n",
       "  <tbody>\n",
       "    <tr>\n",
       "      <th>2019-07-15</th>\n",
       "      <td>0.750</td>\n",
       "      <td>99.310</td>\n",
       "      <td>99.314</td>\n",
       "      <td>0.01</td>\n",
       "      <td>1.559</td>\n",
       "    </tr>\n",
       "    <tr>\n",
       "      <th>2019-07-31</th>\n",
       "      <td>0.875</td>\n",
       "      <td>99.290</td>\n",
       "      <td>99.294</td>\n",
       "      <td>0.008</td>\n",
       "      <td>2.108</td>\n",
       "    </tr>\n",
       "    <tr>\n",
       "      <th>2019-07-31</th>\n",
       "      <td>1.375</td>\n",
       "      <td>99.300</td>\n",
       "      <td>99.304</td>\n",
       "      <td>0.01</td>\n",
       "      <td>2.111</td>\n",
       "    </tr>\n",
       "    <tr>\n",
       "      <th>2019-07-31</th>\n",
       "      <td>1.625</td>\n",
       "      <td>99.304</td>\n",
       "      <td>99.310</td>\n",
       "      <td>0.008</td>\n",
       "      <td>2.112</td>\n",
       "    </tr>\n",
       "    <tr>\n",
       "      <th>2019-08-15</th>\n",
       "      <td>0.750</td>\n",
       "      <td>99.270</td>\n",
       "      <td>99.274</td>\n",
       "      <td>0.01</td>\n",
       "      <td>2.095</td>\n",
       "    </tr>\n",
       "  </tbody>\n",
       "</table>\n",
       "</div>"
      ],
      "text/plain": [
       "            COUPON     BID   ASKED    CHG  ASKED YIELD\n",
       "MATURITY                                              \n",
       "2019-07-15   0.750  99.310  99.314   0.01        1.559\n",
       "2019-07-31   0.875  99.290  99.294  0.008        2.108\n",
       "2019-07-31   1.375  99.300  99.304   0.01        2.111\n",
       "2019-07-31   1.625  99.304  99.310  0.008        2.112\n",
       "2019-08-15   0.750  99.270  99.274   0.01        2.095"
      ]
     },
     "execution_count": 3,
     "metadata": {},
     "output_type": "execute_result"
    }
   ],
   "source": [
    "bondData.head()"
   ]
  },
  {
   "cell_type": "markdown",
   "metadata": {},
   "source": [
    "#### Bills\n",
    "\n",
    "Treasury Bills are quoted at their discount from the par or face value of the contract. For example, consider the T-Bill maturing on 5th December 2019 seen below.\n",
    "\n",
    "The bid annualised discount rate is 2.048%. This needs to be scaled to account for the remaining number of days until expiry. Specifically, the number of days between the settlement date and the maturity date. Since T-Bills can settle on the same day that they're traded, this is 153. Lastly, noting that the daycount convention for Treasuries is [Actual/Actual] the price for this Bill can be computed as 99.14%.\n",
    "\n",
    "Bills are typically traded with a face value of \\$1 million. Thus an investor could buy the 5th December 2019 Bill for \\$991,400 and receive $1 million at maturity."
   ]
  },
  {
   "cell_type": "code",
   "execution_count": 23,
   "metadata": {
    "collapsed": false
   },
   "outputs": [
    {
     "name": "stdout",
     "output_type": "stream",
     "text": [
      "BID            2.048\n",
      "ASKED          2.038\n",
      "CHG            0.025\n",
      "ASKED YIELD    2.084\n",
      "Name: 2019-12-05 00:00:00, dtype: object\n"
     ]
    }
   ],
   "source": [
    "bill = billData.loc['2019-12-05']\n",
    "print(bill)"
   ]
  },
  {
   "cell_type": "code",
   "execution_count": 24,
   "metadata": {
    "collapsed": true
   },
   "outputs": [],
   "source": [
    "def computeBillPrice(today, maturity, discountRate):    \n",
    "    numDaysToMaturity = ( (maturity - today) / np.timedelta64(1,'D') ).astype(int)\n",
    "    \n",
    "    price = 100*(1 - (numDaysToMaturity / 365)*(discountRate/100) )\n",
    "        \n",
    "    return price"
   ]
  },
  {
   "cell_type": "code",
   "execution_count": 25,
   "metadata": {
    "collapsed": false
   },
   "outputs": [
    {
     "name": "stdout",
     "output_type": "stream",
     "text": [
      "99.1415232877\n"
     ]
    }
   ],
   "source": [
    "maturity = np.datetime64('2019-12-05')\n",
    "\n",
    "price = computeBillPrice(today, maturity, bill['BID'])\n",
    "\n",
    "print(price)"
   ]
  },
  {
   "cell_type": "markdown",
   "metadata": {},
   "source": [
    "#### Notes & Bonds\n",
    "\n",
    "Treasury Notes and Bonds are perhaps quoted more intuitively, but still only their *clean* price is displayed. That is, the price does not account for interest that has accrued to the owner since the last coupon was received. For example, consider the T-Note maturing on 15th September 2020 seen below.\n",
    "\n",
    "This Note pays a semi-annual coupon at 1.375% of face value. Its last coupon date (which must be a business day) has been computed to be 18th March 2019, whilst its next coupon date is 16th September 2019. The accrued interest is then computed between the last coupon date and the settlement date. Notes and Bonds settle on T+1, which in this example will roll forward to the next business day: Mon 8th July. The price for this Note is therefore 99.51%\n",
    "\n",
    "Notes and Bonds are also typically traded with a face value of \\$1 million. Thus an investor could buy the 15th September 2020 Note for \\$995,100. She would receive the following cash flows:\n",
    "\n",
    "- 16th September 2019: $\\quad$ \\$6875\n",
    "- 16th March 2020:     $\\qquad$ \\$6875\n",
    "- 15th September 2020: $\\quad$ \\$6875 + \\$1,000,000"
   ]
  },
  {
   "cell_type": "code",
   "execution_count": 8,
   "metadata": {
    "collapsed": false
   },
   "outputs": [
    {
     "name": "stdout",
     "output_type": "stream",
     "text": [
      "COUPON          1.375\n",
      "BID             99.09\n",
      "ASKED          99.094\n",
      "CHG            -0.034\n",
      "ASKED YIELD     1.976\n",
      "Name: 2020-09-15 00:00:00, dtype: object\n"
     ]
    }
   ],
   "source": [
    "note = bondData.loc['2020-09-15']\n",
    "print(note)"
   ]
  },
  {
   "cell_type": "code",
   "execution_count": 9,
   "metadata": {
    "collapsed": true
   },
   "outputs": [],
   "source": [
    "def computeDirtyBondPrice(today, maturity, cleanPrice, annualisedCouponRate):\n",
    "        \n",
    "    lastCouponDate = getLastCouponDate(today, maturity)\n",
    "\n",
    "    nextCouponDate = lastCouponDate + pd.Timedelta(6, unit='M')\n",
    "    nextCouponDate = np.busday_offset(nextCouponDate, 0, roll='forward')\n",
    "    \n",
    "    numDaysInThisPeriod = (nextCouponDate - lastCouponDate).astype(int)\n",
    "    \n",
    "    settleDate = np.busday_offset(today, 1, roll='forward')\n",
    "    \n",
    "    numDaysSinceLastCoupon = (settleDate - lastCouponDate).astype(int)\n",
    "    \n",
    "    accruedInterestRate = (numDaysSinceLastCoupon / numDaysInThisPeriod)*(annualisedCouponRate/2)\n",
    "    \n",
    "    dirtyPrice = cleanPrice + accruedInterestRate\n",
    "    \n",
    "    return dirtyPrice\n",
    "\n",
    "def getLastCouponDate(today, maturity):\n",
    "    \n",
    "    lastCouponDate = maturity\n",
    "\n",
    "    while( lastCouponDate > today ):\n",
    "        lastCouponDate -= pd.Timedelta(6, unit='M')\n",
    "    \n",
    "    lastCouponDate = np.busday_offset(lastCouponDate, 0, roll='forward')\n",
    "\n",
    "    #incase rolling to the next business day pushes lastCouponDate ahead of today\n",
    "    if( lastCouponDate > today ):\n",
    "        lastCouponDate -= pd.Timedelta(6, unit='M')\n",
    "        \n",
    "    lastCouponDate = np.busday_offset(lastCouponDate, 0, roll='forward')\n",
    "    \n",
    "    return lastCouponDate"
   ]
  },
  {
   "cell_type": "code",
   "execution_count": 10,
   "metadata": {
    "collapsed": false
   },
   "outputs": [
    {
     "name": "stdout",
     "output_type": "stream",
     "text": [
      "99.5130769231\n"
     ]
    }
   ],
   "source": [
    "maturity = np.datetime64('2020-09-15')\n",
    "\n",
    "dirtyPrice = computeDirtyBondPrice(today, maturity, note['BID'], note['COUPON'])\n",
    "print(dirtyPrice)"
   ]
  },
  {
   "cell_type": "markdown",
   "metadata": {},
   "source": [
    "## Filtering the data"
   ]
  },
  {
   "cell_type": "markdown",
   "metadata": {},
   "source": [
    "The better the quality of our data, the more accurate and useful our spot yield curve will be. We want to pick liquid instruments that are in-line with the rest of the market and whose prices reflect their true value, not animal spirits or some market dislocation induced by regulatory requirements. It is well known that the most recently issued bond at each maturity (the *on-the-runs*) are the most liquid, whereby their initial prices should be very close to par.\n",
    "\n",
    "I have selected 11 instruments whose dirty price is very close to par, attempting to span the entire set of maturities out to 30 years. This becomes more difficult for longer maturities for two reasons. One is that 30 year T-Bond auctions were cancelled between 2001 and 2006, resulting in a sparsity of bonds maturing between 2031-2036. Secondly, after trading on the secondary market for such a long amount of time, longer maturity bonds are rarely close to par."
   ]
  },
  {
   "cell_type": "code",
   "execution_count": 11,
   "metadata": {
    "collapsed": false
   },
   "outputs": [],
   "source": [
    "def getFilteredBondData():\n",
    "    \n",
    "    bondMaturityToIndexMap = {'2020-07-31': 1,  '2021-01-31': 0,  '2021-08-31': 1, '2022-04-30': 1, \n",
    "                              '2023-01-31': 0,  '2024-04-30': 0,  '2025-08-15': 0, '2026-06-30': -1,\n",
    "                              '2029-05-15': -1, '2045-02-15': -1, '2046-05-15': -1}\n",
    "\n",
    "    cols = [\"Maturity\", \"Coupon\", \"Dirty Bid\", \"Dirty Bid YTM\", \"Maturity [Years]\"]\n",
    "    filteredBondData = pd.DataFrame( np.zeros((len(bondMaturityToIndexMap), len(cols))) , columns = cols)\n",
    "\n",
    "    i=0\n",
    "\n",
    "    for (maturity, index) in bondMaturityToIndexMap.items():\n",
    "        if( index == -1):\n",
    "            bond = bondData.loc[maturity]\n",
    "        else:\n",
    "            bond = bondData.loc[maturity].iloc[index]\n",
    "\n",
    "        dirtyBid = computeDirtyBondPrice(today, np.datetime64(maturity), bond['BID'], bond['COUPON'])\n",
    "        filteredBondData.iloc[i] = [maturity, bond['COUPON'], dirtyBid, 0, 0]\n",
    "        i += 1\n",
    "        \n",
    "    return filteredBondData"
   ]
  },
  {
   "cell_type": "code",
   "execution_count": 12,
   "metadata": {
    "collapsed": false
   },
   "outputs": [
    {
     "data": {
      "text/html": [
       "<div>\n",
       "<table border=\"1\" class=\"dataframe\">\n",
       "  <thead>\n",
       "    <tr style=\"text-align: right;\">\n",
       "      <th></th>\n",
       "      <th>Maturity</th>\n",
       "      <th>Coupon</th>\n",
       "      <th>Dirty Bid</th>\n",
       "      <th>Dirty Bid YTM</th>\n",
       "      <th>Maturity [Years]</th>\n",
       "    </tr>\n",
       "  </thead>\n",
       "  <tbody>\n",
       "    <tr>\n",
       "      <th>0</th>\n",
       "      <td>2020-07-31</td>\n",
       "      <td>2.000</td>\n",
       "      <td>100.873626</td>\n",
       "      <td>0.0</td>\n",
       "      <td>0.0</td>\n",
       "    </tr>\n",
       "    <tr>\n",
       "      <th>1</th>\n",
       "      <td>2021-01-31</td>\n",
       "      <td>1.375</td>\n",
       "      <td>99.632841</td>\n",
       "      <td>0.0</td>\n",
       "      <td>0.0</td>\n",
       "    </tr>\n",
       "    <tr>\n",
       "      <th>2</th>\n",
       "      <td>2021-08-31</td>\n",
       "      <td>2.000</td>\n",
       "      <td>100.788791</td>\n",
       "      <td>0.0</td>\n",
       "      <td>0.0</td>\n",
       "    </tr>\n",
       "    <tr>\n",
       "      <th>3</th>\n",
       "      <td>2022-04-30</td>\n",
       "      <td>1.875</td>\n",
       "      <td>100.381426</td>\n",
       "      <td>0.0</td>\n",
       "      <td>0.0</td>\n",
       "    </tr>\n",
       "    <tr>\n",
       "      <th>4</th>\n",
       "      <td>2023-01-31</td>\n",
       "      <td>1.750</td>\n",
       "      <td>99.991615</td>\n",
       "      <td>0.0</td>\n",
       "      <td>0.0</td>\n",
       "    </tr>\n",
       "    <tr>\n",
       "      <th>5</th>\n",
       "      <td>2024-04-30</td>\n",
       "      <td>2.000</td>\n",
       "      <td>100.601121</td>\n",
       "      <td>0.0</td>\n",
       "      <td>0.0</td>\n",
       "    </tr>\n",
       "    <tr>\n",
       "      <th>6</th>\n",
       "      <td>2025-08-15</td>\n",
       "      <td>2.000</td>\n",
       "      <td>100.976703</td>\n",
       "      <td>0.0</td>\n",
       "      <td>0.0</td>\n",
       "    </tr>\n",
       "    <tr>\n",
       "      <th>7</th>\n",
       "      <td>2026-06-30</td>\n",
       "      <td>1.875</td>\n",
       "      <td>99.242058</td>\n",
       "      <td>0.0</td>\n",
       "      <td>0.0</td>\n",
       "    </tr>\n",
       "    <tr>\n",
       "      <th>8</th>\n",
       "      <td>2029-05-15</td>\n",
       "      <td>2.375</td>\n",
       "      <td>102.652335</td>\n",
       "      <td>0.0</td>\n",
       "      <td>0.0</td>\n",
       "    </tr>\n",
       "    <tr>\n",
       "      <th>9</th>\n",
       "      <td>2045-02-15</td>\n",
       "      <td>2.500</td>\n",
       "      <td>100.074143</td>\n",
       "      <td>0.0</td>\n",
       "      <td>0.0</td>\n",
       "    </tr>\n",
       "    <tr>\n",
       "      <th>10</th>\n",
       "      <td>2046-05-15</td>\n",
       "      <td>2.500</td>\n",
       "      <td>99.392879</td>\n",
       "      <td>0.0</td>\n",
       "      <td>0.0</td>\n",
       "    </tr>\n",
       "  </tbody>\n",
       "</table>\n",
       "</div>"
      ],
      "text/plain": [
       "      Maturity  Coupon   Dirty Bid  Dirty Bid YTM  Maturity [Years]\n",
       "0   2020-07-31   2.000  100.873626            0.0               0.0\n",
       "1   2021-01-31   1.375   99.632841            0.0               0.0\n",
       "2   2021-08-31   2.000  100.788791            0.0               0.0\n",
       "3   2022-04-30   1.875  100.381426            0.0               0.0\n",
       "4   2023-01-31   1.750   99.991615            0.0               0.0\n",
       "5   2024-04-30   2.000  100.601121            0.0               0.0\n",
       "6   2025-08-15   2.000  100.976703            0.0               0.0\n",
       "7   2026-06-30   1.875   99.242058            0.0               0.0\n",
       "8   2029-05-15   2.375  102.652335            0.0               0.0\n",
       "9   2045-02-15   2.500  100.074143            0.0               0.0\n",
       "10  2046-05-15   2.500   99.392879            0.0               0.0"
      ]
     },
     "execution_count": 12,
     "metadata": {},
     "output_type": "execute_result"
    }
   ],
   "source": [
    "getFilteredBondData()"
   ]
  },
  {
   "cell_type": "markdown",
   "metadata": {},
   "source": [
    "## Par Yield Curve"
   ]
  },
  {
   "cell_type": "markdown",
   "metadata": {},
   "source": [
    "This curve plots *yield to maturity* (YTM) of bonds trading at par as a function of maturity. The YTM (or *internal rate of return*) of a bond is the discount rate that, when applied to all of its cash flows, gives a present value that is equal to its market price.\n",
    "\n",
    "Take, for example, the T-Note maturing on 15th September 2020 considered previously. It has a semi-annual coupon of 1.375% and is trading in the market with a dirty bid price of 99.51. Noting its cash flows shown above, its YTM is the value of $y$ that solves the following equation\n",
    "\n",
    "$ 99.5130769231 = 0.6875 e^{-(70/365)y/100} + 0.6875 e^{-(252/365)y/100} + 0.6875 e^{-(435/365)y/100} + 100 e^{-(435/365)y/100}$\n",
    "\n",
    "YTM has its limitations as a measure of value, as it assumes that you will hold the bond until maturity and are able to reinvest all of the coupons as soon as you receive them at the continuously compounded YTM rate.\n",
    "\n",
    "The function *computeYTM()* below determines the yield to maturity of this bond to be 2.14%"
   ]
  },
  {
   "cell_type": "code",
   "execution_count": 13,
   "metadata": {
    "collapsed": false
   },
   "outputs": [],
   "source": [
    "def PV(today, maturity, annualisedCouponRate, ytm):\n",
    "    \n",
    "    couponDayCounts = []\n",
    "    \n",
    "    lastCouponDate = getLastCouponDate(today, maturity)\n",
    "    \n",
    "    nextCouponDate = lastCouponDate + pd.Timedelta(6, unit='M')\n",
    "    nextCouponDate = np.busday_offset(nextCouponDate, 0, roll='forward')\n",
    "    \n",
    "    settleDate = np.busday_offset(today, 1, roll='forward')\n",
    "    \n",
    "    numDaysInThisPeriod = ( (nextCouponDate - settleDate) /np.timedelta64(1,'D') ).astype(int)\n",
    "    \n",
    "    while( nextCouponDate < maturity ):\n",
    "        couponDayCounts.append(numDaysInThisPeriod)\n",
    "        lastCouponDate = nextCouponDate\n",
    "        nextCouponDate = lastCouponDate + pd.Timedelta(6, unit='M')\n",
    "        nextCouponDate = np.busday_offset(nextCouponDate, 0, roll='forward')\n",
    "        numDaysInThisPeriod = ( (nextCouponDate - lastCouponDate) / np.timedelta64(1,'D') ).astype(int)\n",
    "        \n",
    "    #do this to ensure that the last coupon period reaches all the way up until the maturity date\n",
    "    numDaysBetweenLastCouponDateAndMaturity = ( (maturity - lastCouponDate) / np.timedelta64(1,'D') ).astype(int)\n",
    "    couponDayCounts[-1] += numDaysBetweenLastCouponDateAndMaturity\n",
    "    cumulativeDayCounts = np.cumsum(couponDayCounts)\n",
    "    \n",
    "    pv = 0\n",
    "    for days in cumulativeDayCounts:\n",
    "        pv += (annualisedCouponRate/2) * np.exp(-(days/365)*(ytm/100))\n",
    "        \n",
    "    pv += 100 * np.exp(-(cumulativeDayCounts[-1]/365)*(ytm/100))\n",
    "    \n",
    "    return pv\n",
    "\n",
    "def computeYTM(today, maturity, annualisedCouponRate, price):\n",
    "    \n",
    "    #YTM is the root of this function\n",
    "    def rootSolveFunction(ytm):\n",
    "        return PV(today, maturity, annualisedCouponRate, ytm) - price\n",
    "    \n",
    "    #the couponRate is a good initial guess for the YTM\n",
    "    result = optimize.root( rootSolveFunction, [annualisedCouponRate] )\n",
    "    \n",
    "    return result.x[0]"
   ]
  },
  {
   "cell_type": "code",
   "execution_count": 14,
   "metadata": {
    "collapsed": false
   },
   "outputs": [
    {
     "name": "stdout",
     "output_type": "stream",
     "text": [
      "2.14089237336\n"
     ]
    }
   ],
   "source": [
    "maturity = np.datetime64('2020-09-15')\n",
    "\n",
    "ytm = computeYTM(today, maturity, 1.375, 99.5130769231)\n",
    "print(ytm)"
   ]
  },
  {
   "cell_type": "markdown",
   "metadata": {},
   "source": [
    "Using this function we can compute the YTM for each of our selected instruments based on their dirty bid price. This will be the raw data used to determine our par yield curve."
   ]
  },
  {
   "cell_type": "code",
   "execution_count": 15,
   "metadata": {
    "collapsed": false
   },
   "outputs": [],
   "source": [
    "def getParYieldData():\n",
    "    \n",
    "    parData = getFilteredBondData()\n",
    "    \n",
    "    for index, row in parData.iterrows():\n",
    "        parData.loc[index, \"Dirty Bid YTM\"] = computeYTM(today, \n",
    "                                                         np.datetime64(row['Maturity']),\n",
    "                                                         row['Coupon'],\n",
    "                                                         row['Dirty Bid'])\n",
    "        \n",
    "        parData.loc[index, \"Maturity [Years]\"]  = (np.datetime64(row['Maturity']) - today) / np.timedelta64(365,'D')        \n",
    "    \n",
    "    return parData\n",
    "\n",
    "def PlotRawParYieldCurve():\n",
    "    \n",
    "    parData = getParYieldData()\n",
    "    \n",
    "    plt.plot(parData[\"Maturity [Years]\"], parData[\"Dirty Bid YTM\"], 'o')\n",
    "    \n",
    "    plt.style.use(['bmh'])\n",
    "    plt.suptitle(\"Raw Par Yield Curve for selected US Treasuries\", fontsize=16)\n",
    "    plt.xlabel(\"Maturity [Years]\")\n",
    "    plt.ylabel(\"Yield To Maturity\")\n",
    "    plt.show()"
   ]
  },
  {
   "cell_type": "code",
   "execution_count": 16,
   "metadata": {
    "collapsed": false
   },
   "outputs": [
    {
     "data": {
      "image/png": "[encoded data removed]",
      "text/plain": [
       "<Figure size 432x288 with 1 Axes>"
      ]
     },
     "metadata": {},
     "output_type": "display_data"
    }
   ],
   "source": [
    "PlotRawParYieldCurve()"
   ]
  },
  {
   "cell_type": "markdown",
   "metadata": {},
   "source": [
    "We will now interpolate these data with a cubic spline in order to build a robust, continuous curve."
   ]
  },
  {
   "cell_type": "code",
   "execution_count": 17,
   "metadata": {
    "collapsed": false
   },
   "outputs": [],
   "source": [
    "def splineParYieldCurve( maturityArray ):\n",
    "    \n",
    "    parData = getParYieldData()\n",
    "    \n",
    "    maturities = parData[\"Maturity [Years]\"]\n",
    "    ytm = parData[\"Dirty Bid YTM\"]\n",
    "    \n",
    "    tck = interpolate.splrep(maturities, ytm, k=3)\n",
    "    return interpolate.splev(maturityArray, tck)\n",
    "\n",
    "def PlotParYieldCurve():\n",
    "    \n",
    "    maturities = [0.5*n for n in range(2, 61)]\n",
    "    interpolatedYields = splineParYieldCurve( maturities )  \n",
    "    \n",
    "    plt.plot(maturities, interpolatedYields, label=\"spline\")\n",
    "    \n",
    "    parData = getParYieldData()\n",
    "    plt.plot(parData[\"Maturity [Years]\"], parData[\"Dirty Bid YTM\"], 'o', label = \"raw data\")\n",
    "    \n",
    "    plt.legend()\n",
    "    plt.style.use(['bmh'])\n",
    "    plt.suptitle(\"Par Yield Curve for US Treasuries\", fontsize=16)\n",
    "    plt.xlabel(\"Maturity [Years]\")\n",
    "    plt.ylabel(\"Yield To Maturity [continuously compounded]\")\n",
    "    plt.show()"
   ]
  },
  {
   "cell_type": "code",
   "execution_count": 18,
   "metadata": {
    "collapsed": false
   },
   "outputs": [
    {
     "data": {
      "image/png": "[encoded data removed]",
      "text/plain": [
       "<Figure size 432x288 with 1 Axes>"
      ]
     },
     "metadata": {},
     "output_type": "display_data"
    }
   ],
   "source": [
    "PlotParYieldCurve()"
   ]
  },
  {
   "cell_type": "markdown",
   "metadata": {},
   "source": [
    "The Par Yield curve is not used that often in the secondary market, since it is rare for instruments to be trading at par. Note that for bonds trading at par, the yield to maturity is exactly equal to the coupon. For this reason the Par Yield curve is often used in the primary market to determine the coupon that should be offered on a new bond issued to the market at par.\n",
    "\n",
    "This convenient mathematical fact, that for bonds trading at par the yield to maturity is equal to the coupon, will come in handy later."
   ]
  },
  {
   "cell_type": "markdown",
   "metadata": {},
   "source": [
    "## Constructing the Spot Yield Curve"
   ]
  },
  {
   "cell_type": "markdown",
   "metadata": {},
   "source": [
    "#### Short End\n",
    "\n",
    "As mentioned previously, spot interest rates for maturities less than one year can be observed directly in the market thanks to zero-coupon T-Bills.\n",
    "\n",
    "For example, consider again the T-Bill maturing on 5th December 2019. It has a price of 99.14 and 153 days until maturity, at which point the face value will be received.\n",
    "\n",
    "Where $r$ is the annual continuously compounded interest rate, this can be represented by the equation:\n",
    "\n",
    "$99.14 = 100e^{-(153/365)r} \\implies r = 2.06\\%$\n",
    "\n",
    "We can calculate this for each of our T-Bill quotes and plot the short end of the continuously compounded spot yield curve."
   ]
  },
  {
   "cell_type": "code",
   "execution_count": 26,
   "metadata": {
    "collapsed": true
   },
   "outputs": [],
   "source": [
    "def computeSpotRate(today, maturity, price):\n",
    "    numDaysToMaturity = ( (maturity - today) / np.timedelta64(1,'D') ).astype(int)\n",
    "    \n",
    "    spotRate = (365/numDaysToMaturity) * np.log(100/price)\n",
    "    \n",
    "    return 100*spotRate\n",
    "\n",
    "def getShortEndData():\n",
    "    \n",
    "    cols = ['Maturity', 'Dirty Bid', 'Spot Rate', 'Maturity [Years]']\n",
    "    shortEndData = pd.DataFrame( np.zeros((len(billData), len(cols))) , columns = cols)\n",
    "\n",
    "    i=0\n",
    "    for index, row in billData.iterrows():\n",
    "        maturity = index.to_datetime64()\n",
    "        maturityInYears = (maturity - today) / np.timedelta64(365,'D')\n",
    "        dirtyPrice = computeBillPrice(today, maturity, row['BID'])\n",
    "\n",
    "        shortEndData.iloc[i] = [index, dirtyPrice, computeSpotRate(today, maturity, dirtyPrice), maturityInYears]\n",
    "        i += 1\n",
    "    \n",
    "    return shortEndData\n",
    "\n",
    "def PlotRawShortSpotYieldCurve():\n",
    "    \n",
    "    shortEndData = getShortEndData()\n",
    "    \n",
    "    plt.plot(shortEndData[\"Maturity [Years]\"], shortEndData[\"Spot Rate\"], 'o')\n",
    "    \n",
    "    plt.style.use(['bmh'])\n",
    "    plt.suptitle(\"Raw Short End Spot Yield Curve for US Treasuries\", fontsize=16)\n",
    "    plt.xlabel(\"Maturity [Years]\")\n",
    "    plt.ylabel(\"Spot Rate [continuously compounded]\")\n",
    "    plt.show()"
   ]
  },
  {
   "cell_type": "code",
   "execution_count": 27,
   "metadata": {
    "collapsed": false
   },
   "outputs": [
    {
     "data": {
      "image/png": "[encoded data removed]",
      "text/plain": [
       "<Figure size 432x288 with 1 Axes>"
      ]
     },
     "metadata": {},
     "output_type": "display_data"
    }
   ],
   "source": [
    "PlotRawShortSpotYieldCurve()"
   ]
  },
  {
   "cell_type": "markdown",
   "metadata": {},
   "source": [
    "We will fit a quartic polynomial to these points in order to produce a continuous short end curve."
   ]
  },
  {
   "cell_type": "code",
   "execution_count": 28,
   "metadata": {
    "collapsed": true
   },
   "outputs": [],
   "source": [
    "def fittedShortSpotCurve( maturityArray ):\n",
    "    shortEndData = getShortEndData()\n",
    "    \n",
    "    model = np.polyfit(shortEndData[\"Maturity [Years]\"], shortEndData[\"Spot Rate\"], 4)\n",
    "    modelFunc = np.poly1d( model )\n",
    "    \n",
    "    return modelFunc( maturityArray )\n",
    "\n",
    "def PlotShortSpotYieldCurve():\n",
    "    \n",
    "    maturities = [0.05*n for n in range(0, 21)]\n",
    "    modelSpots = fittedShortSpotCurve( maturities )\n",
    "    \n",
    "    plt.plot(maturities, modelSpots, label=\"quartic model\")\n",
    "    \n",
    "    shortEndData = getShortEndData()\n",
    "    plt.plot(shortEndData[\"Maturity [Years]\"], shortEndData[\"Spot Rate\"], 'o', label = \"raw data\")\n",
    "    \n",
    "    plt.legend()\n",
    "    plt.style.use(['bmh'])\n",
    "    plt.suptitle(\"Short End Spot Yield Curve for US Treasuries\", fontsize=16)\n",
    "    plt.xlabel(\"Maturity [Years]\")\n",
    "    plt.ylabel(\"Spot Rate [continuously compounded]\")\n",
    "    plt.show()"
   ]
  },
  {
   "cell_type": "code",
   "execution_count": 29,
   "metadata": {
    "collapsed": false
   },
   "outputs": [
    {
     "data": {
      "image/png": "[encoded data removed]",
      "text/plain": [
       "<Figure size 432x288 with 1 Axes>"
      ]
     },
     "metadata": {},
     "output_type": "display_data"
    }
   ],
   "source": [
    "PlotShortSpotYieldCurve()"
   ]
  },
  {
   "cell_type": "markdown",
   "metadata": {},
   "source": [
    "Now for a carefully chosen set of maturities, we will use the Par Yield and Short End Spot Yield curve to construct a set of instruments that we cannot observe directly in the market. Here we are making explicit use of the mathematical fact that for bonds on the Par Yield curve, their coupon is equal to their yield to maturity."
   ]
  },
  {
   "cell_type": "code",
   "execution_count": 32,
   "metadata": {
    "collapsed": false
   },
   "outputs": [],
   "source": [
    "def getSpotCurveRawData():\n",
    "\n",
    "    cols = ['Maturity', 'Maturity [Years]', 'Coupon', 'Spot Rate']\n",
    "    maturitiesYears = [0.25] + [0.5*n for n in range(1,61)]\n",
    "    maturities = [(today + pd.Timedelta(3, unit='M')).normalize().to_datetime64()]\n",
    "    maturities += [(today + pd.Timedelta(6*n, unit='M')).normalize().to_datetime64() for n in range(1, 61)]\n",
    "\n",
    "    empty = np.empty((len(maturitiesYears), len(cols)))\n",
    "    empty[:] = np.nan\n",
    "\n",
    "    spotCurveRawData = pd.DataFrame( empty , columns = cols)\n",
    "\n",
    "    for i in range(3):\n",
    "        row = [maturities[i], maturitiesYears[i], np.nan, fittedShortSpotCurve(maturitiesYears[i])]\n",
    "        spotCurveRawData.loc[i] = row\n",
    "\n",
    "    for i in range(3, 61):\n",
    "        #on the par-yield curve: coupon = YTM\n",
    "        ytm = splineParYieldCurve( maturitiesYears[i] )\n",
    "        coupon = ytm\n",
    "\n",
    "        row = [maturities[i], maturitiesYears[i], coupon, np.nan]\n",
    "        spotCurveRawData.loc[i] = row\n",
    "        \n",
    "    return spotCurveRawData"
   ]
  },
  {
   "cell_type": "code",
   "execution_count": 33,
   "metadata": {
    "collapsed": false
   },
   "outputs": [
    {
     "data": {
      "text/html": [
       "<div>\n",
       "<table border=\"1\" class=\"dataframe\">\n",
       "  <thead>\n",
       "    <tr style=\"text-align: right;\">\n",
       "      <th></th>\n",
       "      <th>Maturity</th>\n",
       "      <th>Maturity [Years]</th>\n",
       "      <th>Coupon</th>\n",
       "      <th>Spot Rate</th>\n",
       "    </tr>\n",
       "  </thead>\n",
       "  <tbody>\n",
       "    <tr>\n",
       "      <th>0</th>\n",
       "      <td>2019-10-04</td>\n",
       "      <td>0.25</td>\n",
       "      <td>NaN</td>\n",
       "      <td>2.135983</td>\n",
       "    </tr>\n",
       "    <tr>\n",
       "      <th>1</th>\n",
       "      <td>2020-01-03</td>\n",
       "      <td>0.50</td>\n",
       "      <td>NaN</td>\n",
       "      <td>2.030868</td>\n",
       "    </tr>\n",
       "    <tr>\n",
       "      <th>2</th>\n",
       "      <td>2020-07-04</td>\n",
       "      <td>1.00</td>\n",
       "      <td>NaN</td>\n",
       "      <td>1.960844</td>\n",
       "    </tr>\n",
       "    <tr>\n",
       "      <th>3</th>\n",
       "      <td>2021-01-02</td>\n",
       "      <td>1.50</td>\n",
       "      <td>1.988747</td>\n",
       "      <td>NaN</td>\n",
       "    </tr>\n",
       "    <tr>\n",
       "      <th>4</th>\n",
       "      <td>2021-07-04</td>\n",
       "      <td>2.00</td>\n",
       "      <td>1.967090</td>\n",
       "      <td>NaN</td>\n",
       "    </tr>\n",
       "    <tr>\n",
       "      <th>5</th>\n",
       "      <td>2022-01-03</td>\n",
       "      <td>2.50</td>\n",
       "      <td>1.886937</td>\n",
       "      <td>NaN</td>\n",
       "    </tr>\n",
       "    <tr>\n",
       "      <th>6</th>\n",
       "      <td>2022-07-04</td>\n",
       "      <td>3.00</td>\n",
       "      <td>1.865045</td>\n",
       "      <td>NaN</td>\n",
       "    </tr>\n",
       "    <tr>\n",
       "      <th>7</th>\n",
       "      <td>2023-01-03</td>\n",
       "      <td>3.50</td>\n",
       "      <td>1.950756</td>\n",
       "      <td>NaN</td>\n",
       "    </tr>\n",
       "    <tr>\n",
       "      <th>8</th>\n",
       "      <td>2023-07-04</td>\n",
       "      <td>4.00</td>\n",
       "      <td>1.985254</td>\n",
       "      <td>NaN</td>\n",
       "    </tr>\n",
       "    <tr>\n",
       "      <th>9</th>\n",
       "      <td>2024-01-03</td>\n",
       "      <td>4.50</td>\n",
       "      <td>1.960157</td>\n",
       "      <td>NaN</td>\n",
       "    </tr>\n",
       "    <tr>\n",
       "      <th>10</th>\n",
       "      <td>2024-07-04</td>\n",
       "      <td>5.00</td>\n",
       "      <td>1.933486</td>\n",
       "      <td>NaN</td>\n",
       "    </tr>\n",
       "    <tr>\n",
       "      <th>11</th>\n",
       "      <td>2025-01-02</td>\n",
       "      <td>5.50</td>\n",
       "      <td>1.934945</td>\n",
       "      <td>NaN</td>\n",
       "    </tr>\n",
       "    <tr>\n",
       "      <th>12</th>\n",
       "      <td>2025-07-04</td>\n",
       "      <td>6.00</td>\n",
       "      <td>1.952076</td>\n",
       "      <td>NaN</td>\n",
       "    </tr>\n",
       "    <tr>\n",
       "      <th>13</th>\n",
       "      <td>2026-01-03</td>\n",
       "      <td>6.50</td>\n",
       "      <td>1.970435</td>\n",
       "      <td>NaN</td>\n",
       "    </tr>\n",
       "    <tr>\n",
       "      <th>14</th>\n",
       "      <td>2026-07-04</td>\n",
       "      <td>7.00</td>\n",
       "      <td>1.987346</td>\n",
       "      <td>NaN</td>\n",
       "    </tr>\n",
       "    <tr>\n",
       "      <th>15</th>\n",
       "      <td>2027-01-03</td>\n",
       "      <td>7.50</td>\n",
       "      <td>2.005338</td>\n",
       "      <td>NaN</td>\n",
       "    </tr>\n",
       "    <tr>\n",
       "      <th>16</th>\n",
       "      <td>2027-07-04</td>\n",
       "      <td>8.00</td>\n",
       "      <td>2.024640</td>\n",
       "      <td>NaN</td>\n",
       "    </tr>\n",
       "    <tr>\n",
       "      <th>17</th>\n",
       "      <td>2028-01-03</td>\n",
       "      <td>8.50</td>\n",
       "      <td>2.044928</td>\n",
       "      <td>NaN</td>\n",
       "    </tr>\n",
       "    <tr>\n",
       "      <th>18</th>\n",
       "      <td>2028-07-04</td>\n",
       "      <td>9.00</td>\n",
       "      <td>2.065874</td>\n",
       "      <td>NaN</td>\n",
       "    </tr>\n",
       "    <tr>\n",
       "      <th>19</th>\n",
       "      <td>2029-01-02</td>\n",
       "      <td>9.50</td>\n",
       "      <td>2.087151</td>\n",
       "      <td>NaN</td>\n",
       "    </tr>\n",
       "    <tr>\n",
       "      <th>20</th>\n",
       "      <td>2029-07-04</td>\n",
       "      <td>10.00</td>\n",
       "      <td>2.108434</td>\n",
       "      <td>NaN</td>\n",
       "    </tr>\n",
       "    <tr>\n",
       "      <th>21</th>\n",
       "      <td>2030-01-03</td>\n",
       "      <td>10.50</td>\n",
       "      <td>2.129494</td>\n",
       "      <td>NaN</td>\n",
       "    </tr>\n",
       "    <tr>\n",
       "      <th>22</th>\n",
       "      <td>2030-07-04</td>\n",
       "      <td>11.00</td>\n",
       "      <td>2.150290</td>\n",
       "      <td>NaN</td>\n",
       "    </tr>\n",
       "    <tr>\n",
       "      <th>23</th>\n",
       "      <td>2031-01-03</td>\n",
       "      <td>11.50</td>\n",
       "      <td>2.170796</td>\n",
       "      <td>NaN</td>\n",
       "    </tr>\n",
       "    <tr>\n",
       "      <th>24</th>\n",
       "      <td>2031-07-04</td>\n",
       "      <td>12.00</td>\n",
       "      <td>2.190989</td>\n",
       "      <td>NaN</td>\n",
       "    </tr>\n",
       "    <tr>\n",
       "      <th>25</th>\n",
       "      <td>2032-01-03</td>\n",
       "      <td>12.50</td>\n",
       "      <td>2.210846</td>\n",
       "      <td>NaN</td>\n",
       "    </tr>\n",
       "    <tr>\n",
       "      <th>26</th>\n",
       "      <td>2032-07-04</td>\n",
       "      <td>13.00</td>\n",
       "      <td>2.230344</td>\n",
       "      <td>NaN</td>\n",
       "    </tr>\n",
       "    <tr>\n",
       "      <th>27</th>\n",
       "      <td>2033-01-02</td>\n",
       "      <td>13.50</td>\n",
       "      <td>2.249459</td>\n",
       "      <td>NaN</td>\n",
       "    </tr>\n",
       "    <tr>\n",
       "      <th>28</th>\n",
       "      <td>2033-07-04</td>\n",
       "      <td>14.00</td>\n",
       "      <td>2.268167</td>\n",
       "      <td>NaN</td>\n",
       "    </tr>\n",
       "    <tr>\n",
       "      <th>29</th>\n",
       "      <td>2034-01-03</td>\n",
       "      <td>14.50</td>\n",
       "      <td>2.286445</td>\n",
       "      <td>NaN</td>\n",
       "    </tr>\n",
       "    <tr>\n",
       "      <th>...</th>\n",
       "      <td>...</td>\n",
       "      <td>...</td>\n",
       "      <td>...</td>\n",
       "      <td>...</td>\n",
       "    </tr>\n",
       "    <tr>\n",
       "      <th>31</th>\n",
       "      <td>2035-01-03</td>\n",
       "      <td>15.50</td>\n",
       "      <td>2.321617</td>\n",
       "      <td>NaN</td>\n",
       "    </tr>\n",
       "    <tr>\n",
       "      <th>32</th>\n",
       "      <td>2035-07-04</td>\n",
       "      <td>16.00</td>\n",
       "      <td>2.338464</td>\n",
       "      <td>NaN</td>\n",
       "    </tr>\n",
       "    <tr>\n",
       "      <th>33</th>\n",
       "      <td>2036-01-03</td>\n",
       "      <td>16.50</td>\n",
       "      <td>2.354787</td>\n",
       "      <td>NaN</td>\n",
       "    </tr>\n",
       "    <tr>\n",
       "      <th>34</th>\n",
       "      <td>2036-07-04</td>\n",
       "      <td>17.00</td>\n",
       "      <td>2.370563</td>\n",
       "      <td>NaN</td>\n",
       "    </tr>\n",
       "    <tr>\n",
       "      <th>35</th>\n",
       "      <td>2037-01-02</td>\n",
       "      <td>17.50</td>\n",
       "      <td>2.385768</td>\n",
       "      <td>NaN</td>\n",
       "    </tr>\n",
       "    <tr>\n",
       "      <th>36</th>\n",
       "      <td>2037-07-04</td>\n",
       "      <td>18.00</td>\n",
       "      <td>2.400378</td>\n",
       "      <td>NaN</td>\n",
       "    </tr>\n",
       "    <tr>\n",
       "      <th>37</th>\n",
       "      <td>2038-01-02</td>\n",
       "      <td>18.50</td>\n",
       "      <td>2.414370</td>\n",
       "      <td>NaN</td>\n",
       "    </tr>\n",
       "    <tr>\n",
       "      <th>38</th>\n",
       "      <td>2038-07-04</td>\n",
       "      <td>19.00</td>\n",
       "      <td>2.427721</td>\n",
       "      <td>NaN</td>\n",
       "    </tr>\n",
       "    <tr>\n",
       "      <th>39</th>\n",
       "      <td>2039-01-03</td>\n",
       "      <td>19.50</td>\n",
       "      <td>2.440406</td>\n",
       "      <td>NaN</td>\n",
       "    </tr>\n",
       "    <tr>\n",
       "      <th>40</th>\n",
       "      <td>2039-07-04</td>\n",
       "      <td>20.00</td>\n",
       "      <td>2.452404</td>\n",
       "      <td>NaN</td>\n",
       "    </tr>\n",
       "    <tr>\n",
       "      <th>41</th>\n",
       "      <td>2040-01-03</td>\n",
       "      <td>20.50</td>\n",
       "      <td>2.463689</td>\n",
       "      <td>NaN</td>\n",
       "    </tr>\n",
       "    <tr>\n",
       "      <th>42</th>\n",
       "      <td>2040-07-04</td>\n",
       "      <td>21.00</td>\n",
       "      <td>2.474240</td>\n",
       "      <td>NaN</td>\n",
       "    </tr>\n",
       "    <tr>\n",
       "      <th>43</th>\n",
       "      <td>2041-01-02</td>\n",
       "      <td>21.50</td>\n",
       "      <td>2.484031</td>\n",
       "      <td>NaN</td>\n",
       "    </tr>\n",
       "    <tr>\n",
       "      <th>44</th>\n",
       "      <td>2041-07-04</td>\n",
       "      <td>22.00</td>\n",
       "      <td>2.493040</td>\n",
       "      <td>NaN</td>\n",
       "    </tr>\n",
       "    <tr>\n",
       "      <th>45</th>\n",
       "      <td>2042-01-02</td>\n",
       "      <td>22.50</td>\n",
       "      <td>2.501243</td>\n",
       "      <td>NaN</td>\n",
       "    </tr>\n",
       "    <tr>\n",
       "      <th>46</th>\n",
       "      <td>2042-07-04</td>\n",
       "      <td>23.00</td>\n",
       "      <td>2.508617</td>\n",
       "      <td>NaN</td>\n",
       "    </tr>\n",
       "    <tr>\n",
       "      <th>47</th>\n",
       "      <td>2043-01-03</td>\n",
       "      <td>23.50</td>\n",
       "      <td>2.515138</td>\n",
       "      <td>NaN</td>\n",
       "    </tr>\n",
       "    <tr>\n",
       "      <th>48</th>\n",
       "      <td>2043-07-04</td>\n",
       "      <td>24.00</td>\n",
       "      <td>2.520782</td>\n",
       "      <td>NaN</td>\n",
       "    </tr>\n",
       "    <tr>\n",
       "      <th>49</th>\n",
       "      <td>2044-01-03</td>\n",
       "      <td>24.50</td>\n",
       "      <td>2.525527</td>\n",
       "      <td>NaN</td>\n",
       "    </tr>\n",
       "    <tr>\n",
       "      <th>50</th>\n",
       "      <td>2044-07-04</td>\n",
       "      <td>25.00</td>\n",
       "      <td>2.529349</td>\n",
       "      <td>NaN</td>\n",
       "    </tr>\n",
       "    <tr>\n",
       "      <th>51</th>\n",
       "      <td>2045-01-02</td>\n",
       "      <td>25.50</td>\n",
       "      <td>2.532223</td>\n",
       "      <td>NaN</td>\n",
       "    </tr>\n",
       "    <tr>\n",
       "      <th>52</th>\n",
       "      <td>2045-07-04</td>\n",
       "      <td>26.00</td>\n",
       "      <td>2.534128</td>\n",
       "      <td>NaN</td>\n",
       "    </tr>\n",
       "    <tr>\n",
       "      <th>53</th>\n",
       "      <td>2046-01-02</td>\n",
       "      <td>26.50</td>\n",
       "      <td>2.535039</td>\n",
       "      <td>NaN</td>\n",
       "    </tr>\n",
       "    <tr>\n",
       "      <th>54</th>\n",
       "      <td>2046-07-04</td>\n",
       "      <td>27.00</td>\n",
       "      <td>2.534932</td>\n",
       "      <td>NaN</td>\n",
       "    </tr>\n",
       "    <tr>\n",
       "      <th>55</th>\n",
       "      <td>2047-01-03</td>\n",
       "      <td>27.50</td>\n",
       "      <td>2.533785</td>\n",
       "      <td>NaN</td>\n",
       "    </tr>\n",
       "    <tr>\n",
       "      <th>56</th>\n",
       "      <td>2047-07-04</td>\n",
       "      <td>28.00</td>\n",
       "      <td>2.531574</td>\n",
       "      <td>NaN</td>\n",
       "    </tr>\n",
       "    <tr>\n",
       "      <th>57</th>\n",
       "      <td>2048-01-03</td>\n",
       "      <td>28.50</td>\n",
       "      <td>2.528275</td>\n",
       "      <td>NaN</td>\n",
       "    </tr>\n",
       "    <tr>\n",
       "      <th>58</th>\n",
       "      <td>2048-07-04</td>\n",
       "      <td>29.00</td>\n",
       "      <td>2.523865</td>\n",
       "      <td>NaN</td>\n",
       "    </tr>\n",
       "    <tr>\n",
       "      <th>59</th>\n",
       "      <td>2049-01-02</td>\n",
       "      <td>29.50</td>\n",
       "      <td>2.518320</td>\n",
       "      <td>NaN</td>\n",
       "    </tr>\n",
       "    <tr>\n",
       "      <th>60</th>\n",
       "      <td>2049-07-04</td>\n",
       "      <td>30.00</td>\n",
       "      <td>2.511617</td>\n",
       "      <td>NaN</td>\n",
       "    </tr>\n",
       "  </tbody>\n",
       "</table>\n",
       "<p>61 rows × 4 columns</p>\n",
       "</div>"
      ],
      "text/plain": [
       "     Maturity  Maturity [Years]    Coupon  Spot Rate\n",
       "0  2019-10-04              0.25       NaN   2.135983\n",
       "1  2020-01-03              0.50       NaN   2.030868\n",
       "2  2020-07-04              1.00       NaN   1.960844\n",
       "3  2021-01-02              1.50  1.988747        NaN\n",
       "4  2021-07-04              2.00  1.967090        NaN\n",
       "5  2022-01-03              2.50  1.886937        NaN\n",
       "6  2022-07-04              3.00  1.865045        NaN\n",
       "7  2023-01-03              3.50  1.950756        NaN\n",
       "8  2023-07-04              4.00  1.985254        NaN\n",
       "9  2024-01-03              4.50  1.960157        NaN\n",
       "10 2024-07-04              5.00  1.933486        NaN\n",
       "11 2025-01-02              5.50  1.934945        NaN\n",
       "12 2025-07-04              6.00  1.952076        NaN\n",
       "13 2026-01-03              6.50  1.970435        NaN\n",
       "14 2026-07-04              7.00  1.987346        NaN\n",
       "15 2027-01-03              7.50  2.005338        NaN\n",
       "16 2027-07-04              8.00  2.024640        NaN\n",
       "17 2028-01-03              8.50  2.044928        NaN\n",
       "18 2028-07-04              9.00  2.065874        NaN\n",
       "19 2029-01-02              9.50  2.087151        NaN\n",
       "20 2029-07-04             10.00  2.108434        NaN\n",
       "21 2030-01-03             10.50  2.129494        NaN\n",
       "22 2030-07-04             11.00  2.150290        NaN\n",
       "23 2031-01-03             11.50  2.170796        NaN\n",
       "24 2031-07-04             12.00  2.190989        NaN\n",
       "25 2032-01-03             12.50  2.210846        NaN\n",
       "26 2032-07-04             13.00  2.230344        NaN\n",
       "27 2033-01-02             13.50  2.249459        NaN\n",
       "28 2033-07-04             14.00  2.268167        NaN\n",
       "29 2034-01-03             14.50  2.286445        NaN\n",
       "..        ...               ...       ...        ...\n",
       "31 2035-01-03             15.50  2.321617        NaN\n",
       "32 2035-07-04             16.00  2.338464        NaN\n",
       "33 2036-01-03             16.50  2.354787        NaN\n",
       "34 2036-07-04             17.00  2.370563        NaN\n",
       "35 2037-01-02             17.50  2.385768        NaN\n",
       "36 2037-07-04             18.00  2.400378        NaN\n",
       "37 2038-01-02             18.50  2.414370        NaN\n",
       "38 2038-07-04             19.00  2.427721        NaN\n",
       "39 2039-01-03             19.50  2.440406        NaN\n",
       "40 2039-07-04             20.00  2.452404        NaN\n",
       "41 2040-01-03             20.50  2.463689        NaN\n",
       "42 2040-07-04             21.00  2.474240        NaN\n",
       "43 2041-01-02             21.50  2.484031        NaN\n",
       "44 2041-07-04             22.00  2.493040        NaN\n",
       "45 2042-01-02             22.50  2.501243        NaN\n",
       "46 2042-07-04             23.00  2.508617        NaN\n",
       "47 2043-01-03             23.50  2.515138        NaN\n",
       "48 2043-07-04             24.00  2.520782        NaN\n",
       "49 2044-01-03             24.50  2.525527        NaN\n",
       "50 2044-07-04             25.00  2.529349        NaN\n",
       "51 2045-01-02             25.50  2.532223        NaN\n",
       "52 2045-07-04             26.00  2.534128        NaN\n",
       "53 2046-01-02             26.50  2.535039        NaN\n",
       "54 2046-07-04             27.00  2.534932        NaN\n",
       "55 2047-01-03             27.50  2.533785        NaN\n",
       "56 2047-07-04             28.00  2.531574        NaN\n",
       "57 2048-01-03             28.50  2.528275        NaN\n",
       "58 2048-07-04             29.00  2.523865        NaN\n",
       "59 2049-01-02             29.50  2.518320        NaN\n",
       "60 2049-07-04             30.00  2.511617        NaN\n",
       "\n",
       "[61 rows x 4 columns]"
      ]
     },
     "execution_count": 33,
     "metadata": {},
     "output_type": "execute_result"
    }
   ],
   "source": [
    "getSpotCurveRawData()"
   ]
  },
  {
   "cell_type": "markdown",
   "metadata": {},
   "source": [
    "#### Bootstrapping the long end\n",
    "\n",
    "We can now iteratively compute the spot rate at successive maturities by decomposing the price of these par bonds (that, by definition, have a price of 100) into their individual coupon contributions.\n",
    "\n",
    "For example the spot rate in 1.5 years, $s_{1.5}$, can be determined using the following equation for the price of the coupon-paying 1.5 year par bond.\n",
    "\n",
    "$100 = (1.988747/2)e^{-0.5\\times2.030868/100} + (1.988747/2)e^{-1\\times1.960844/100} + (1.988747/2 + 100)e^{-1.5\\times s_{1.5}/100}$\n",
    "\n",
    "Or equivalently, if we define the adjusted price, $\\text{AP}_{1.5}$, to be the price of the par bond maturing in 1.5 years with the first two coupons removed:\n",
    "\n",
    "$\\text{AP}_{1.5} = (1.988747/2 + 100)e^{-1.5\\times s_{1.5}/100}$\n",
    "\n",
    "Similarly for the other bonds:\n",
    "\n",
    "$\\text{AP}_{2.0} = (1.967090/2)e^{-1.5\\times s_{1.5}/100} + (1.967090/2 + 100)e^{-2\\times s_{2}/100}$\n",
    "\n",
    "$\\text{AP}_{2.5} = (1.886937/2)e^{-1.5\\times s_{1.5}/100} + (1.886937/2)e^{-2\\times s_{2}/100} + (1.886937/2 + 100)e^{-2.5\\times s_{2.5}/100}$\n",
    "\n",
    "This has a natural matrix representation, relating the adjusted prices to the spot discount factors:\n",
    "\n",
    "$\\begin{bmatrix}\n",
    "    \\text{AP}_{1.5} \\\\ \n",
    "    \\text{AP}_{2.0} \\\\ \n",
    "    \\vdots          \\\\ \n",
    "    \\text{AP}_{30} \n",
    " \\end{bmatrix}=\n",
    " \\begin{bmatrix}\n",
    "    \\frac{1}{2}C_{1.5}+100  &  0                       &  0                  &  \\cdots  &  0                       \\\\ \n",
    "    \\frac{1}{2}C_{2.0}      &  \\frac{1}{2}C_{2.0}+100  &  0                  &  \\cdots  &  0                       \\\\ \n",
    "    \\vdots                  &  \\vdots                  &  \\vdots             &          &  \\vdots                   \\\\ \n",
    "    \\frac{1}{2}C_{30}       &  \\frac{1}{2}C_{30}       &  \\frac{1}{2}C_{30}  &  \\cdots  &  \\frac{1}{2}C_{30} + 100 \\\\\n",
    " \\end{bmatrix}\n",
    " \\begin{bmatrix}\n",
    "    e^{-1.5\\times s_{1.5}/100}  \\\\ \n",
    "    e^{-2\\times s_{2.0}/100} \\\\ \n",
    "    \\vdots          \\\\ \n",
    "    e^{-30\\times s_{30}/100} \n",
    " \\end{bmatrix}\n",
    " $\n",
    " \n",
    " $\\boldsymbol{a = Cd} \\implies \\boldsymbol{d = C^{-1}a}$\n",
    " \n",
    " From these discount factors, the spot rates can be deduced."
   ]
  },
  {
   "cell_type": "code",
   "execution_count": 34,
   "metadata": {
    "collapsed": false
   },
   "outputs": [],
   "source": [
    "def bootstrapSpotCurve( spotCurveRawData ):\n",
    "\n",
    "    AP = np.matrix(np.zeros((58, 1)))\n",
    "\n",
    "    s_6months = spotCurveRawData.loc[1][\"Spot Rate\"]\n",
    "    s_1year = spotCurveRawData.loc[2][\"Spot Rate\"]\n",
    "\n",
    "    for i in range(58):\n",
    "        coup = spotCurveRawData.loc[i+3][\"Coupon\"]\n",
    "        AP[i] = 100 - (coup/2)*np.exp(-0.5*s_6months/100) - (coup/2)*np.exp(-s_1year/100)\n",
    "\n",
    "    C = np.matrix(np.zeros((58, 58)))\n",
    "\n",
    "    for i in range(58):\n",
    "        coup = spotCurveRawData.loc[i+3][\"Coupon\"]\n",
    "        for j in range(i+1):\n",
    "            if( i == j ):\n",
    "                C[i,j] = coup/2 + 100\n",
    "            else:\n",
    "                C[i,j] = coup/2\n",
    "\n",
    "    C_inv = np.linalg.inv(C)\n",
    "\n",
    "    d = C_inv * AP\n",
    "\n",
    "    spotRates = []\n",
    "\n",
    "    for i in range(58):\n",
    "        mat = spotCurveRawData.loc[i+3][\"Maturity [Years]\"]\n",
    "        discount = d[i].tolist()[0][0]\n",
    "        spot = -100 * np.log(discount) / mat\n",
    "        spotCurveRawData.loc[i+3, \"Spot Rate\"] = spot\n",
    "        \n",
    "    return spotCurveRawData\n",
    "\n",
    "def PlotSpotYieldCurve():\n",
    "    \n",
    "    spotCurveRawData = getSpotCurveRawData()\n",
    "    spotCurve = bootstrapSpotCurve( spotCurveRawData )\n",
    "    plt.plot(spotCurve[\"Maturity [Years]\"], spotCurve[\"Spot Rate\"], label = \"ours\")\n",
    "    \n",
    "    USSpotCurve = pd.read_csv(\"US_SpotCurve.csv\")\n",
    "    \n",
    "    plt.plot(USSpotCurve[\"Maturity\"], USSpotCurve[\"Jun\"], label = \"US Treasury\")\n",
    "    \n",
    "    plt.legend()\n",
    "    plt.style.use(['bmh'])\n",
    "    plt.suptitle(\"Spot Yield Curve for US Treasuries\", fontsize=16)\n",
    "    plt.xlabel(\"Maturity [Years]\")\n",
    "    plt.ylabel(\"Spot Rate [continuously compounded]\")\n",
    "    plt.show()"
   ]
  },
  {
   "cell_type": "code",
   "execution_count": 35,
   "metadata": {
    "collapsed": false
   },
   "outputs": [
    {
     "data": {
      "image/png": "[encoded data removed]",
      "text/plain": [
       "<Figure size 432x288 with 1 Axes>"
      ]
     },
     "metadata": {},
     "output_type": "display_data"
    }
   ],
   "source": [
    "PlotSpotYieldCurve()"
   ]
  },
  {
   "cell_type": "markdown",
   "metadata": {},
   "source": [
    "The US Treasury [[2](https://www.treasury.gov/resource-center/economic-policy/corp-bond-yield/pages/tnc-yc.aspx)] computes a Spot Yield Curve at the end of each month, alongside some explanation of their methodology [[3](https://www.treasury.gov/resource-center/economic-policy/corp-bond-yield/Documents/trp_apr2014.pdf)]. Their curve computed at the end of June is plotted alongside ours.\n",
    "\n",
    "The two curves begin very similarly at the short-end and pass through a minimum point at around 3 years before increasing. However, our curve is less smooth around this minimum and stays around one percentage point higher for the majority of maturities."
   ]
  },
  {
   "cell_type": "code",
   "execution_count": null,
   "metadata": {
    "collapsed": true
   },
   "outputs": [],
   "source": []
  }
 ],
 "metadata": {
  "kernelspec": {
   "display_name": "Python 3",
   "language": "python",
   "name": "python3"
  },
  "language_info": {
   "codemirror_mode": {
    "name": "ipython",
    "version": 3
   },
   "file_extension": ".py",
   "mimetype": "text/x-python",
   "name": "python",
   "nbconvert_exporter": "python",
   "pygments_lexer": "ipython3",
   "version": "3.6.3"
  }
 },
 "nbformat": 4,
 "nbformat_minor": 2
}
